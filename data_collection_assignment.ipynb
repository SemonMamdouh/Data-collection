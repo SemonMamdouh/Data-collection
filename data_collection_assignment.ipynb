{
 "cells": [
  {
   "cell_type": "markdown",
   "metadata": {},
   "source": [
    "task1 :API"
   ]
  },
  {
   "cell_type": "code",
   "execution_count": 15,
   "metadata": {},
   "outputs": [],
   "source": [
    "\n",
    "import requests"
   ]
  },
  {
   "cell_type": "code",
   "execution_count": 4,
   "metadata": {},
   "outputs": [],
   "source": [
    "res = requests.get('https://api.thecatapi.com/v1/images/search?limit=20&api_key=live_ZyZ9FXUV7f3vyzOJeqcuLhWXBrcynbbcdLv1d7Dq7xLObOLSSLzaPtDUVoWdFrFj')"
   ]
  },
  {
   "cell_type": "code",
   "execution_count": 5,
   "metadata": {},
   "outputs": [
    {
     "data": {
      "text/plain": [
       "<Response [200]>"
      ]
     },
     "execution_count": 5,
     "metadata": {},
     "output_type": "execute_result"
    }
   ],
   "source": [
    "res"
   ]
  },
  {
   "cell_type": "code",
   "execution_count": 6,
   "metadata": {},
   "outputs": [],
   "source": [
    "result = res.json()"
   ]
  },
  {
   "cell_type": "code",
   "execution_count": 10,
   "metadata": {},
   "outputs": [
    {
     "data": {
      "text/plain": [
       "[{'breeds': [],\n",
       "  'categories': [{'id': 4, 'name': 'sunglasses'}],\n",
       "  'id': '15l',\n",
       "  'url': 'https://cdn2.thecatapi.com/images/15l.jpg',\n",
       "  'width': 320,\n",
       "  'height': 350},\n",
       " {'breeds': [],\n",
       "  'id': '3dl',\n",
       "  'url': 'https://cdn2.thecatapi.com/images/3dl.jpg',\n",
       "  'width': 375,\n",
       "  'height': 500},\n",
       " {'breeds': [],\n",
       "  'id': '3ou',\n",
       "  'url': 'https://cdn2.thecatapi.com/images/3ou.gif',\n",
       "  'width': 200,\n",
       "  'height': 150},\n",
       " {'breeds': [],\n",
       "  'id': '8eh',\n",
       "  'url': 'https://cdn2.thecatapi.com/images/8eh.jpg',\n",
       "  'width': 640,\n",
       "  'height': 480},\n",
       " {'breeds': [],\n",
       "  'id': '9ah',\n",
       "  'url': 'https://cdn2.thecatapi.com/images/9ah.jpg',\n",
       "  'width': 612,\n",
       "  'height': 612},\n",
       " {'breeds': [],\n",
       "  'id': 'b3c',\n",
       "  'url': 'https://cdn2.thecatapi.com/images/b3c.png',\n",
       "  'width': 768,\n",
       "  'height': 1024},\n",
       " {'breeds': [],\n",
       "  'id': 'bbp',\n",
       "  'url': 'https://cdn2.thecatapi.com/images/bbp.jpg',\n",
       "  'width': 480,\n",
       "  'height': 320},\n",
       " {'breeds': [],\n",
       "  'id': 'bhn',\n",
       "  'url': 'https://cdn2.thecatapi.com/images/bhn.jpg',\n",
       "  'width': 500,\n",
       "  'height': 343},\n",
       " {'breeds': [],\n",
       "  'id': 'c2v',\n",
       "  'url': 'https://cdn2.thecatapi.com/images/c2v.jpg',\n",
       "  'width': 1024,\n",
       "  'height': 681},\n",
       " {'breeds': [],\n",
       "  'id': 'cua',\n",
       "  'url': 'https://cdn2.thecatapi.com/images/cua.jpg',\n",
       "  'width': 500,\n",
       "  'height': 384},\n",
       " {'breeds': [],\n",
       "  'id': 'd09',\n",
       "  'url': 'https://cdn2.thecatapi.com/images/d09.jpg',\n",
       "  'width': 800,\n",
       "  'height': 531},\n",
       " {'breeds': [],\n",
       "  'id': 'e0i',\n",
       "  'url': 'https://cdn2.thecatapi.com/images/e0i.jpg',\n",
       "  'width': 640,\n",
       "  'height': 462},\n",
       " {'breeds': [],\n",
       "  'id': 'e71',\n",
       "  'url': 'https://cdn2.thecatapi.com/images/e71.jpg',\n",
       "  'width': 500,\n",
       "  'height': 333},\n",
       " {'breeds': [],\n",
       "  'id': 'efp',\n",
       "  'url': 'https://cdn2.thecatapi.com/images/efp.jpg',\n",
       "  'width': 500,\n",
       "  'height': 375},\n",
       " {'breeds': [],\n",
       "  'categories': [{'id': 1, 'name': 'hats'}],\n",
       "  'id': 'MTY1NDQ1NQ',\n",
       "  'url': 'https://cdn2.thecatapi.com/images/MTY1NDQ1NQ.jpg',\n",
       "  'width': 530,\n",
       "  'height': 706},\n",
       " {'breeds': [],\n",
       "  'categories': [{'id': 15, 'name': 'clothes'}],\n",
       "  'id': 'MTgxMjI2NA',\n",
       "  'url': 'https://cdn2.thecatapi.com/images/MTgxMjI2NA.jpg',\n",
       "  'width': 1024,\n",
       "  'height': 794},\n",
       " {'breeds': [],\n",
       "  'id': 'MTk3OTg4OA',\n",
       "  'url': 'https://cdn2.thecatapi.com/images/MTk3OTg4OA.jpg',\n",
       "  'width': 640,\n",
       "  'height': 622},\n",
       " {'breeds': [],\n",
       "  'id': 'MjA1NzA0NQ',\n",
       "  'url': 'https://cdn2.thecatapi.com/images/MjA1NzA0NQ.jpg',\n",
       "  'width': 527,\n",
       "  'height': 640},\n",
       " {'breeds': [],\n",
       "  'id': 'MjA1NzQ3OQ',\n",
       "  'url': 'https://cdn2.thecatapi.com/images/MjA1NzQ3OQ.jpg',\n",
       "  'width': 850,\n",
       "  'height': 850},\n",
       " {'breeds': [{'weight': {'imperial': '8 - 13', 'metric': '4 - 6'},\n",
       "    'id': 'cymr',\n",
       "    'name': 'Cymric',\n",
       "    'vetstreet_url': 'http://www.vetstreet.com/cats/cymric',\n",
       "    'temperament': 'Gentle, Loyal, Intelligent, Playful',\n",
       "    'origin': 'Canada',\n",
       "    'country_codes': 'CA',\n",
       "    'country_code': 'CA',\n",
       "    'description': 'The Cymric is a placid, sweet cat. They do not get too upset about anything that happens in their world. They are loving companions and adore people. They are smart and dexterous, capable of using his paws to get into cabinets or to open doors.',\n",
       "    'life_span': '8 - 14',\n",
       "    'indoor': 0,\n",
       "    'lap': 1,\n",
       "    'alt_names': 'Spangle',\n",
       "    'adaptability': 5,\n",
       "    'affection_level': 5,\n",
       "    'child_friendly': 4,\n",
       "    'dog_friendly': 5,\n",
       "    'energy_level': 5,\n",
       "    'grooming': 3,\n",
       "    'health_issues': 3,\n",
       "    'intelligence': 5,\n",
       "    'shedding_level': 5,\n",
       "    'social_needs': 5,\n",
       "    'stranger_friendly': 3,\n",
       "    'vocalisation': 3,\n",
       "    'experimental': 0,\n",
       "    'hairless': 0,\n",
       "    'natural': 0,\n",
       "    'rare': 0,\n",
       "    'rex': 0,\n",
       "    'suppressed_tail': 1,\n",
       "    'short_legs': 0,\n",
       "    'wikipedia_url': 'https://en.wikipedia.org/wiki/Cymric_(cat)',\n",
       "    'hypoallergenic': 0,\n",
       "    'reference_image_id': '3dbtapCWM'}],\n",
       "  'id': 'dSiKP0JWG',\n",
       "  'url': 'https://cdn2.thecatapi.com/images/dSiKP0JWG.jpg',\n",
       "  'width': 1600,\n",
       "  'height': 1088}]"
      ]
     },
     "execution_count": 10,
     "metadata": {},
     "output_type": "execute_result"
    }
   ],
   "source": [
    "result"
   ]
  },
  {
   "cell_type": "code",
   "execution_count": 14,
   "metadata": {},
   "outputs": [],
   "source": [
    "url = result[1]['url']\n",
    "width= result[2]['width']\n",
    "height= result[2]['height']"
   ]
  },
  {
   "cell_type": "code",
   "execution_count": 15,
   "metadata": {},
   "outputs": [],
   "source": [
    "with open('cats_images_url.csv', mode ='w') as fd :\n",
    "    fd.write('id,url,width,height\\n')\n",
    "    for i in range(len(result)):\n",
    "        url = result[i]['url']\n",
    "        width= result[i]['width']\n",
    "        height= result[i]['height']\n",
    "        fd.write(f'{i+1} ,{url},{width},{height}\\n')"
   ]
  },
  {
   "cell_type": "code",
   "execution_count": 17,
   "metadata": {},
   "outputs": [
    {
     "data": {
      "text/html": [
       "<div>\n",
       "<style scoped>\n",
       "    .dataframe tbody tr th:only-of-type {\n",
       "        vertical-align: middle;\n",
       "    }\n",
       "\n",
       "    .dataframe tbody tr th {\n",
       "        vertical-align: top;\n",
       "    }\n",
       "\n",
       "    .dataframe thead th {\n",
       "        text-align: right;\n",
       "    }\n",
       "</style>\n",
       "<table border=\"1\" class=\"dataframe\">\n",
       "  <thead>\n",
       "    <tr style=\"text-align: right;\">\n",
       "      <th></th>\n",
       "      <th>id</th>\n",
       "      <th>url</th>\n",
       "      <th>width</th>\n",
       "      <th>height</th>\n",
       "    </tr>\n",
       "  </thead>\n",
       "  <tbody>\n",
       "    <tr>\n",
       "      <th>0</th>\n",
       "      <td>1</td>\n",
       "      <td>https://cdn2.thecatapi.com/images/15l.jpg</td>\n",
       "      <td>320</td>\n",
       "      <td>350</td>\n",
       "    </tr>\n",
       "    <tr>\n",
       "      <th>1</th>\n",
       "      <td>2</td>\n",
       "      <td>https://cdn2.thecatapi.com/images/3dl.jpg</td>\n",
       "      <td>375</td>\n",
       "      <td>500</td>\n",
       "    </tr>\n",
       "    <tr>\n",
       "      <th>2</th>\n",
       "      <td>3</td>\n",
       "      <td>https://cdn2.thecatapi.com/images/3ou.gif</td>\n",
       "      <td>200</td>\n",
       "      <td>150</td>\n",
       "    </tr>\n",
       "    <tr>\n",
       "      <th>3</th>\n",
       "      <td>4</td>\n",
       "      <td>https://cdn2.thecatapi.com/images/8eh.jpg</td>\n",
       "      <td>640</td>\n",
       "      <td>480</td>\n",
       "    </tr>\n",
       "    <tr>\n",
       "      <th>4</th>\n",
       "      <td>5</td>\n",
       "      <td>https://cdn2.thecatapi.com/images/9ah.jpg</td>\n",
       "      <td>612</td>\n",
       "      <td>612</td>\n",
       "    </tr>\n",
       "    <tr>\n",
       "      <th>5</th>\n",
       "      <td>6</td>\n",
       "      <td>https://cdn2.thecatapi.com/images/b3c.png</td>\n",
       "      <td>768</td>\n",
       "      <td>1024</td>\n",
       "    </tr>\n",
       "    <tr>\n",
       "      <th>6</th>\n",
       "      <td>7</td>\n",
       "      <td>https://cdn2.thecatapi.com/images/bbp.jpg</td>\n",
       "      <td>480</td>\n",
       "      <td>320</td>\n",
       "    </tr>\n",
       "    <tr>\n",
       "      <th>7</th>\n",
       "      <td>8</td>\n",
       "      <td>https://cdn2.thecatapi.com/images/bhn.jpg</td>\n",
       "      <td>500</td>\n",
       "      <td>343</td>\n",
       "    </tr>\n",
       "    <tr>\n",
       "      <th>8</th>\n",
       "      <td>9</td>\n",
       "      <td>https://cdn2.thecatapi.com/images/c2v.jpg</td>\n",
       "      <td>1024</td>\n",
       "      <td>681</td>\n",
       "    </tr>\n",
       "    <tr>\n",
       "      <th>9</th>\n",
       "      <td>10</td>\n",
       "      <td>https://cdn2.thecatapi.com/images/cua.jpg</td>\n",
       "      <td>500</td>\n",
       "      <td>384</td>\n",
       "    </tr>\n",
       "    <tr>\n",
       "      <th>10</th>\n",
       "      <td>11</td>\n",
       "      <td>https://cdn2.thecatapi.com/images/d09.jpg</td>\n",
       "      <td>800</td>\n",
       "      <td>531</td>\n",
       "    </tr>\n",
       "    <tr>\n",
       "      <th>11</th>\n",
       "      <td>12</td>\n",
       "      <td>https://cdn2.thecatapi.com/images/e0i.jpg</td>\n",
       "      <td>640</td>\n",
       "      <td>462</td>\n",
       "    </tr>\n",
       "    <tr>\n",
       "      <th>12</th>\n",
       "      <td>13</td>\n",
       "      <td>https://cdn2.thecatapi.com/images/e71.jpg</td>\n",
       "      <td>500</td>\n",
       "      <td>333</td>\n",
       "    </tr>\n",
       "    <tr>\n",
       "      <th>13</th>\n",
       "      <td>14</td>\n",
       "      <td>https://cdn2.thecatapi.com/images/efp.jpg</td>\n",
       "      <td>500</td>\n",
       "      <td>375</td>\n",
       "    </tr>\n",
       "    <tr>\n",
       "      <th>14</th>\n",
       "      <td>15</td>\n",
       "      <td>https://cdn2.thecatapi.com/images/MTY1NDQ1NQ.jpg</td>\n",
       "      <td>530</td>\n",
       "      <td>706</td>\n",
       "    </tr>\n",
       "    <tr>\n",
       "      <th>15</th>\n",
       "      <td>16</td>\n",
       "      <td>https://cdn2.thecatapi.com/images/MTgxMjI2NA.jpg</td>\n",
       "      <td>1024</td>\n",
       "      <td>794</td>\n",
       "    </tr>\n",
       "    <tr>\n",
       "      <th>16</th>\n",
       "      <td>17</td>\n",
       "      <td>https://cdn2.thecatapi.com/images/MTk3OTg4OA.jpg</td>\n",
       "      <td>640</td>\n",
       "      <td>622</td>\n",
       "    </tr>\n",
       "    <tr>\n",
       "      <th>17</th>\n",
       "      <td>18</td>\n",
       "      <td>https://cdn2.thecatapi.com/images/MjA1NzA0NQ.jpg</td>\n",
       "      <td>527</td>\n",
       "      <td>640</td>\n",
       "    </tr>\n",
       "    <tr>\n",
       "      <th>18</th>\n",
       "      <td>19</td>\n",
       "      <td>https://cdn2.thecatapi.com/images/MjA1NzQ3OQ.jpg</td>\n",
       "      <td>850</td>\n",
       "      <td>850</td>\n",
       "    </tr>\n",
       "    <tr>\n",
       "      <th>19</th>\n",
       "      <td>20</td>\n",
       "      <td>https://cdn2.thecatapi.com/images/dSiKP0JWG.jpg</td>\n",
       "      <td>1600</td>\n",
       "      <td>1088</td>\n",
       "    </tr>\n",
       "  </tbody>\n",
       "</table>\n",
       "</div>"
      ],
      "text/plain": [
       "    id                                               url  width  height\n",
       "0    1         https://cdn2.thecatapi.com/images/15l.jpg    320     350\n",
       "1    2         https://cdn2.thecatapi.com/images/3dl.jpg    375     500\n",
       "2    3         https://cdn2.thecatapi.com/images/3ou.gif    200     150\n",
       "3    4         https://cdn2.thecatapi.com/images/8eh.jpg    640     480\n",
       "4    5         https://cdn2.thecatapi.com/images/9ah.jpg    612     612\n",
       "5    6         https://cdn2.thecatapi.com/images/b3c.png    768    1024\n",
       "6    7         https://cdn2.thecatapi.com/images/bbp.jpg    480     320\n",
       "7    8         https://cdn2.thecatapi.com/images/bhn.jpg    500     343\n",
       "8    9         https://cdn2.thecatapi.com/images/c2v.jpg   1024     681\n",
       "9   10         https://cdn2.thecatapi.com/images/cua.jpg    500     384\n",
       "10  11         https://cdn2.thecatapi.com/images/d09.jpg    800     531\n",
       "11  12         https://cdn2.thecatapi.com/images/e0i.jpg    640     462\n",
       "12  13         https://cdn2.thecatapi.com/images/e71.jpg    500     333\n",
       "13  14         https://cdn2.thecatapi.com/images/efp.jpg    500     375\n",
       "14  15  https://cdn2.thecatapi.com/images/MTY1NDQ1NQ.jpg    530     706\n",
       "15  16  https://cdn2.thecatapi.com/images/MTgxMjI2NA.jpg   1024     794\n",
       "16  17  https://cdn2.thecatapi.com/images/MTk3OTg4OA.jpg    640     622\n",
       "17  18  https://cdn2.thecatapi.com/images/MjA1NzA0NQ.jpg    527     640\n",
       "18  19  https://cdn2.thecatapi.com/images/MjA1NzQ3OQ.jpg    850     850\n",
       "19  20   https://cdn2.thecatapi.com/images/dSiKP0JWG.jpg   1600    1088"
      ]
     },
     "execution_count": 17,
     "metadata": {},
     "output_type": "execute_result"
    }
   ],
   "source": [
    "import pandas as pd \n",
    "pd.read_csv('cats_images_url.csv')"
   ]
  },
  {
   "cell_type": "markdown",
   "metadata": {},
   "source": [
    "task2 : web scrapping"
   ]
  },
  {
   "cell_type": "markdown",
   "metadata": {},
   "source": [
    "task1 :Scrap the USD To EGP Exchange rate from this website\n",
    " https://www.exchangerates.org.uk/Dollars-to-Egyptian-Pounds-currency-conversion-page.html\n",
    " and then use it to make a software that takes amount of USD Dollars from the user and\n",
    " calculate how much will it cost in EGP"
   ]
  },
  {
   "cell_type": "code",
   "execution_count": 3,
   "metadata": {},
   "outputs": [],
   "source": [
    "res = requests.get('https://www.exchangerates.org.uk/Dollars-to-Egyptian-Pounds-currency-conversion-page.html')"
   ]
  },
  {
   "cell_type": "code",
   "execution_count": 4,
   "metadata": {},
   "outputs": [
    {
     "data": {
      "text/plain": [
       "<Response [403]>"
      ]
     },
     "execution_count": 4,
     "metadata": {},
     "output_type": "execute_result"
    }
   ],
   "source": [
    "res "
   ]
  },
  {
   "cell_type": "code",
   "execution_count": 16,
   "metadata": {},
   "outputs": [],
   "source": [
    "re = requests.get('https://forecast.weather.gov/MapClick.php?lat=37.7772&lon=-122.4168')"
   ]
  },
  {
   "cell_type": "code",
   "execution_count": 20,
   "metadata": {},
   "outputs": [
    {
     "data": {
      "text/plain": [
       "<Response [200]>"
      ]
     },
     "execution_count": 20,
     "metadata": {},
     "output_type": "execute_result"
    }
   ],
   "source": [
    "re"
   ]
  },
  {
   "cell_type": "code",
   "execution_count": 28,
   "metadata": {},
   "outputs": [
    {
     "data": {
      "text/plain": [
       "'<!DOCTYPE html><html class=\"no-js\">\\n    <head>\\n        <!-- Meta -->\\n        <meta name=\"viewport\" content=\"width=device-width\" />\\n        <link rel=\"schema.DC\" href=\"http://purl.org/dc/elements/1.1/\" />\\n        <title>National Weather Service</title>\\n        <meta name=\"DC.title\" content=\"National Weather Service\" />\\n        <meta name=\"DC.description\" content=\"NOAA National Weather Service\" />\\n        <meta name=\"DC.creator\" content=\"US Department of Commerce, NOAA, National Weather Service\" />\\n        <meta name=\"DC.date.created\" scheme=\"ISO8601\" content=\"2024-12-28T19:02:01+00:00\" />\\n        <meta name=\"DC.language\" scheme=\"DCTERMS.RFC1766\" content=\"EN-US\" />\\n        <meta name=\"DC.keywords\" content=\"weather\" />\\n        <meta name=\"DC.publisher\" content=\"NOAA\\'s National Weather Service\" />\\n        <meta name=\"DC.contributor\" content=\"National Weather Service\" />\\n        <meta name=\"DC.rights\" content=\"/disclaimer.php\" />\\n        <meta name=\"rating\" content=\"General\" />\\n        <meta name=\"robots\" content=\"index,follow\" />\\n\\n        <!-- Icons -->\\n        <link rel=\"shortcut icon\" href=\"/build/images/favicon.eab6deff.ico\" type=\"image/x-icon\" />\\n\\n                    <link rel=\"stylesheet\" href=\"/build/app.b5803bc3.css\">\\n        \\n                    <script src=\"/build/runtime.5332280c.js\"></script><script src=\"/build/662.4c16084d.js\"></script><script src=\"/build/app.b0ab6b61.js\"></script>\\n            <script type=\"text/javascript\" src=\"https://cdn.gov.cfigroup.com/webmon/s/source/webmon/ce989efe8b1040/webmon.js\" async></script>\\n            <script type=\"text/javascript\" id=\"_fed_an_ua_tag\" src=\"https://dap.digitalgov.gov/Universal-Federated-Analytics-Min.js?agency=DOC&amp;subagency=NOAA\"></script>\\n            <script type=\"text/javascript\">\\n                // GoogleAnalyticsObject is defined in the federated analytics script, but PUA option not used as forecast UA needs sampleRate\\n                window[window[\\'GoogleAnalyticsObject\\']](\\'create\\', \\'UA-40768555-1\\', \\'weather.gov\\', {\\'sampleRate\\': 6});\\n                window[window[\\'GoogleAnalyticsObject\\']](\\'set\\', \\'anonymizeIp\\', true);\\n                window[window[\\'GoogleAnalyticsObject\\']](\\'require\\', \\'linkid\\');\\n                window[window[\\'GoogleAnalyticsObject\\']](\\'send\\', \\'pageview\\');\\n            </script>\\n            </head>\\n    <body>\\n        <main class=\"container\">\\n            <header class=\"row clearfix\" id=\"page-header\">\\n    <a href=\"//www.noaa.gov\" id=\"header-noaa\" class=\"pull-left\"><img src=\"/build/images/header/noaa.d87e0251.png\" alt=\"National Oceanic and Atmospheric Administration\"/></a>\\n    <a href=\"https://www.weather.gov\" id=\"header-nws\" class=\"pull-left\"><img src=\"/build/images/header/nws.4e6585d8.png\" alt=\"National Weather Service\"/></a>\\n    <a href=\"//www.commerce.gov\" id=\"header-doc\" class=\"pull-right\"><img src=\"/build/images/header/doc.b38ba91a.png\" alt=\"United States Department of Commerce\"/></a>\\n</header>\\n\\n            <nav class=\"navbar navbar-default row\" role=\"navigation\">\\n    <div class=\"container-fluid\">\\n        <div class=\"navbar-header\">\\n            <button type=\"button\" class=\"navbar-toggle collapsed\" data-toggle=\"collapse\" data-target=\"#top-nav\">\\n                <span class=\"sr-only\">Toggle navigation</span>\\n                <span class=\"icon-bar\"></span>\\n                <span class=\"icon-bar\"></span>\\n                <span class=\"icon-bar\"></span>\\n            </button>\\n        </div>\\n        <div class=\"collapse navbar-collapse\" id=\"top-nav\">\\n            <ul class=\"nav navbar-nav\">\\n                <li><a href=\"//www.weather.gov\">HOME</a></li>\\n                                    <li class=\"dropdown\">\\n                        <a href=\"https://www.weather.gov/forecastmaps/\" class=\"dropdown-toggle\" data-toggle=\"dropdown\">\\n                                                            FORECAST\\n                                                        <span class=\"caret\"></span>\\n                        </a>\\n                        <ul class=\"dropdown-menu\" role=\"menu\">\\n                                                                                        <li>\\n                                    <a href=\"https://www.weather.gov\">Local</a>\\n                                </li>\\n                                                            <li>\\n                                    <a href=\"https://digital.weather.gov\">Graphical</a>\\n                                </li>\\n                                                            <li>\\n                                    <a href=\"https://aviationweather.gov\">Aviation</a>\\n                                </li>\\n                                                            <li>\\n                                    <a href=\"https://www.weather.gov/marine/\">Marine</a>\\n                                </li>\\n                                                            <li>\\n                                    <a href=\"https://water.noaa.gov\">Rivers and Lakes</a>\\n                                </li>\\n                                                            <li>\\n                                    <a href=\"https://www.nhc.noaa.gov\">Hurricanes</a>\\n                                </li>\\n                                                            <li>\\n                                    <a href=\"https://www.spc.noaa.gov\">Severe Weather</a>\\n                                </li>\\n                                                            <li>\\n                                    <a href=\"https://www.weather.gov/fire/\">Fire Weather</a>\\n                                </li>\\n                                                            <li>\\n                                    <a href=\"https://gml.noaa.gov/grad/solcalc/\">Sunrise/Sunset</a>\\n                                </li>\\n                                                            <li>\\n                                    <a href=\"https://www.cpc.ncep.noaa.gov\">Long Range Forecasts</a>\\n                                </li>\\n                                                            <li>\\n                                    <a href=\"https://www.cpc.ncep.noaa.gov\">Climate Prediction</a>\\n                                </li>\\n                                                            <li>\\n                                    <a href=\"https://www.swpc.noaa.gov\">Space Weather</a>\\n                                </li>\\n                                                    </ul>\\n                    </li>\\n                                    <li class=\"dropdown\">\\n                        <a href=\"https://www.weather.gov/wrh/climate\" class=\"dropdown-toggle\" data-toggle=\"dropdown\">\\n                                                            PAST WEATHER\\n                                                        <span class=\"caret\"></span>\\n                        </a>\\n                        <ul class=\"dropdown-menu\" role=\"menu\">\\n                                                                                        <li>\\n                                    <a href=\"https://www.weather.gov/wrh/climate\">Past Weather</a>\\n                                </li>\\n                                                            <li>\\n                                    <a href=\"https://www.weather.gov/wrh/climate\">Heating/Cooling Days</a>\\n                                </li>\\n                                                            <li>\\n                                    <a href=\"https://www.weather.gov/wrh/climate\">Monthly Temperatures</a>\\n                                </li>\\n                                                            <li>\\n                                    <a href=\"https://www.weather.gov/wrh/climate\">Records</a>\\n                                </li>\\n                                                            <li>\\n                                    <a href=\"https://aa.usno.navy.mil\">Astronomical Data</a>\\n                                </li>\\n                                                    </ul>\\n                    </li>\\n                                    <li class=\"dropdown\">\\n                        <a href=\"https://www.weather.gov/safety/\" class=\"dropdown-toggle\" data-toggle=\"dropdown\">\\n                                                            SAFETY\\n                                                        <span class=\"caret\"></span>\\n                        </a>\\n                        <ul class=\"dropdown-menu\" role=\"menu\">\\n                                                                                        <li>\\n                                    <a href=\"https://www.weather.gov/safety/tsunami\">Tsunamis</a>\\n                                </li>\\n                                                            <li>\\n                                    <a href=\"https://www.weather.gov/safety/flood\">Floods</a>\\n                                </li>\\n                                                            <li>\\n                                    <a href=\"https://www.weather.gov/safety/beachhazards\">Beach Hazards</a>\\n                                </li>\\n                                                            <li>\\n                                    <a href=\"https://www.weather.gov/safety/wildfire\">Wildfire</a>\\n                                </li>\\n                                                            <li>\\n                                    <a href=\"https://www.weather.gov/safety/cold\">Cold</a>\\n                                </li>\\n                                                            <li>\\n                                    <a href=\"https://www.weather.gov/safety/tornado\">Tornadoes</a>\\n                                </li>\\n                                                            <li>\\n                                    <a href=\"https://www.weather.gov/safety/fog\">Fog</a>\\n                                </li>\\n                                                            <li>\\n                                    <a href=\"https://www.weather.gov/safety/airquality\">Air Quality</a>\\n                                </li>\\n                                                            <li>\\n                                    <a href=\"https://www.weather.gov/safety/heat\">Heat</a>\\n                                </li>\\n                                                            <li>\\n                                    <a href=\"https://www.weather.gov/safety/hurricane\">Hurricanes</a>\\n                                </li>\\n                                                            <li>\\n                                    <a href=\"https://www.weather.gov/safety/lightning\">Lightning</a>\\n                                </li>\\n                                                            <li>\\n                                    <a href=\"https://www.weather.gov/safety/safeboating\">Safe Boating</a>\\n                                </li>\\n                                                            <li>\\n                                    <a href=\"https://www.weather.gov/safety/ripcurrent\">Rip Currents</a>\\n                                </li>\\n                                                            <li>\\n                                    <a href=\"https://www.weather.gov/safety/thunderstorm\">Thunderstorms</a>\\n                                </li>\\n                                                            <li>\\n                                    <a href=\"https://www.weather.gov/safety/space\">Space Weather</a>\\n                                </li>\\n                                                            <li>\\n                                    <a href=\"https://www.weather.gov/safety/heat-uv\">Sun (Ultraviolet Radiation)</a>\\n                                </li>\\n                                                            <li>\\n                                    <a href=\"https://www.weather.gov/safety/wind\">Wind</a>\\n                                </li>\\n                                                            <li>\\n                                    <a href=\"https://www.weather.gov/safety/drought\">Drought</a>\\n                                </li>\\n                                                            <li>\\n                                    <a href=\"https://www.weather.gov/safety/winter\">Winter Weather</a>\\n                                </li>\\n                                                    </ul>\\n                    </li>\\n                                    <li class=\"dropdown\">\\n                        <a href=\"https://www.weather.gov/informationcenter\" class=\"dropdown-toggle\" data-toggle=\"dropdown\">\\n                                                            INFORMATION\\n                                                        <span class=\"caret\"></span>\\n                        </a>\\n                        <ul class=\"dropdown-menu\" role=\"menu\">\\n                                                                                        <li>\\n                                    <a href=\"https://www.weather.gov/wrn/wea\">Wireless Emergency Alerts</a>\\n                                </li>\\n                                                            <li>\\n                                    <a href=\"https://www.weather.gov/wrn/\">Weather-Ready Nation</a>\\n                                </li>\\n                                                            <li>\\n                                    <a href=\"https://www.weather.gov/owlie/publication_brochures\">Brochures</a>\\n                                </li>\\n                                                            <li>\\n                                    <a href=\"https://www.weather.gov/coop/\">Cooperative Observers</a>\\n                                </li>\\n                                                            <li>\\n                                    <a href=\"https://www.weather.gov/briefing/\">Daily Briefing</a>\\n                                </li>\\n                                                            <li>\\n                                    <a href=\"https://www.weather.gov/hazstat\">Damage/Fatality/Injury Statistics</a>\\n                                </li>\\n                                                            <li>\\n                                    <a href=\"http://mag.ncep.noaa.gov\">Forecast Models</a>\\n                                </li>\\n                                                            <li>\\n                                    <a href=\"https://www.weather.gov/gis/\">GIS Data Portal</a>\\n                                </li>\\n                                                            <li>\\n                                    <a href=\"https://www.weather.gov/nwr\">NOAA Weather Radio</a>\\n                                </li>\\n                                                            <li>\\n                                    <a href=\"https://www.weather.gov/publications/\">Publications</a>\\n                                </li>\\n                                                            <li>\\n                                    <a href=\"https://www.weather.gov/skywarn/\">SKYWARN Storm Spotters</a>\\n                                </li>\\n                                                            <li>\\n                                    <a href=\"https://www.weather.gov/stormready\">StormReady</a>\\n                                </li>\\n                                                            <li>\\n                                    <a href=\"https://www.weather.gov/tsunamiready/\">TsunamiReady</a>\\n                                </li>\\n                                                            <li>\\n                                    <a href=\"https://www.weather.gov/notification/\">Service Change Notices</a>\\n                                </li>\\n                                                    </ul>\\n                    </li>\\n                                    <li class=\"dropdown\">\\n                        <a href=\"https://www.weather.gov/education/\" class=\"dropdown-toggle\" data-toggle=\"dropdown\">\\n                                                            EDUCATION\\n                                                        <span class=\"caret\"></span>\\n                        </a>\\n                        <ul class=\"dropdown-menu\" role=\"menu\">\\n                                                                                        <li>\\n                                    <a href=\"https://www.weather.gov/wrn/force\">Be A Force of Nature</a>\\n                                </li>\\n                                                            <li>\\n                                    <a href=\"https://www.weather.gov/owlie/\">NWS Education Home</a>\\n                                </li>\\n                                                    </ul>\\n                    </li>\\n                                    <li class=\"dropdown\">\\n                        <a href=\"https://www.weather.gov/news\" class=\"dropdown-toggle\" data-toggle=\"dropdown\">\\n                                                            NEWS\\n                                                        <span class=\"caret\"></span>\\n                        </a>\\n                        <ul class=\"dropdown-menu\" role=\"menu\">\\n                                                                                        <li>\\n                                    <a href=\"https://www.weather.gov/news\">NWS News</a>\\n                                </li>\\n                                                            <li>\\n                                    <a href=\"https://www.weather.gov/wrn/calendar\">Events</a>\\n                                </li>\\n                                                            <li>\\n                                    <a href=\"https://www.weather.gov/owlie/publication_brochures\">Pubs/Brochures/Booklets </a>\\n                                </li>\\n                                                            <li>\\n                                    <a href=\"https://www.noaa.gov/NOAA-Communications\">NWS Media Contacts</a>\\n                                </li>\\n                                                    </ul>\\n                    </li>\\n                                    <li class=\"dropdown\">\\n                        <a href=\"https://www.weather.gov/search/\" class=\"dropdown-toggle\" data-toggle=\"dropdown\">\\n                                                            SEARCH\\n                                                        <span class=\"caret\"></span>\\n                        </a>\\n                        <ul class=\"dropdown-menu\" role=\"menu\">\\n                                                            <li>\\n                                    <div id=\"site-search\">\\n                                        <form method=\"get\" action=\"//search.usa.gov/search\" style=\"margin-bottom: 0; margin-top: 0;\">\\n                                            <input type=\"hidden\" name=\"v:project\" value=\"firstgov\" />\\n                                            <label for=\"query\">Search For</label>\\n                                            <input type=\"text\" name=\"query\" id=\"query\" size=\"12\" />\\n                                            <input type=\"submit\" value=\"Go\" />\\n                                            <p>\\n                                                <input type=\"radio\" name=\"affiliate\" checked=\"checked\" value=\"nws.noaa.gov\" id=\"nws\" />\\n                                                <label for=\"nws\" class=\"search-scope\">NWS</label>\\n                                                <input type=\"radio\" name=\"affiliate\" value=\"noaa.gov\" id=\"noaa\" />\\n                                                <label for=\"noaa\" class=\"search-scope\">All NOAA</label>\\n                                            </p>\\n                                        </form>\\n                                    </div>\\n                                </li>\\n                                                                                </ul>\\n                    </li>\\n                                    <li class=\"dropdown\">\\n                        <a href=\"https://www.weather.gov/about/\" class=\"dropdown-toggle\" data-toggle=\"dropdown\">\\n                                                            ABOUT\\n                                                        <span class=\"caret\"></span>\\n                        </a>\\n                        <ul class=\"dropdown-menu\" role=\"menu\">\\n                                                                                        <li>\\n                                    <a href=\"https://www.weather.gov/about/\">About NWS</a>\\n                                </li>\\n                                                            <li>\\n                                    <a href=\"https://www.weather.gov/organization\">Organization</a>\\n                                </li>\\n                                                            <li>\\n                                    <a href=\"https://www.weather.gov/media/wrn/NWS-2023-Strategic-Plan.pdf\">Strategic Plan</a>\\n                                </li>\\n                                                            <li>\\n                                    <a href=\"https://www.noaa.gov/national-weather-service/commitment-diversity\">Commitment to Diversity</a>\\n                                </li>\\n                                                            <li>\\n                                    <a href=\"https://sites.google.com/a/noaa.gov/nws-insider/\">For NWS Employees</a>\\n                                </li>\\n                                                            <li>\\n                                    <a href=\"https://www.weather.gov/insider\">International</a>\\n                                </li>\\n                                                            <li>\\n                                    <a href=\"https://www.weather.gov/ncep/\">National Centers</a>\\n                                </li>\\n                                                            <li>\\n                                    <a href=\"https://www.noaa.gov/nws-careers\">Careers</a>\\n                                </li>\\n                                                            <li>\\n                                    <a href=\"https://www.weather.gov/contact\">Contact Us</a>\\n                                </li>\\n                                                            <li>\\n                                    <a href=\"https://forecast.weather.gov/glossary.php\">Glossary</a>\\n                                </li>\\n                                                            <li>\\n                                    <a href=\"https://www.weather.gov/socialmedia\">Social Media</a>\\n                                </li>\\n                                                    </ul>\\n                    </li>\\n                            </ul>\\n        </div>\\n    </div>\\n</nav>\\n\\n            <div class=\"contentArea\">\\n                    <div class=\"\" id=\"fcst-search\">\\n    <form name=\"getForecast\" id=\"getForecast\" class=\"form-inline\" role=\"form\" action=\"https://forecast.weather.gov/zipcity.php\" method=\"get\" data-baseurl=\"http://forecast.weather.gov/MapClick.php\">\\n        <div id=\"getfcst-body\">\\n            <input name=\"inputstring\" type=\"text\" class=\"form-control\" id=\"inputstring\" placeholder=\"\" />\\n            <input name=\"btnSearch\" id=\"btnSearch\" class=\"btn btn-default\" type=\"submit\" value=\"Go\" />\\n            <div id=\"txtHelp\"><a href=\"javascript:void(window.open(\\'http://weather.gov/ForecastSearchHelp.html\\',\\'locsearchhelp\\',\\'status=0,toolbar=0,location=0,menubar=0,directories=0,resizable=1,scrollbars=1,height=500,width=530\\').focus());\">View Location Examples</a></div>\\n        </div>\\n        <div id=\"txtError\">\\n            <div id=\"errorNoResults\" style=\"display:none;\">Sorry, the location you searched for was not found. Please try another search.</div>\\n            <div id=\"errorMultipleResults\" style=\"display:none\">Multiple locations were found. Please select one of the following:</div>\\n            <div id=\"errorChoices\" style=\"display:none\"></div>\\n            <input id=\"btnCloseError\" type=\"button\" value=\"Close\" style=\"display:none\" />\\n        </div>\\n        <div id=\"getfcst-head\">\\n                            <p>Your local forecast office is</p>\\n                <h3 id=\"getfcst-headOffice\">\\n                    <a href=\"https://www.weather.gov/mtr\">San Francisco Bay Area/Monterey, CA</a>\\n                </h3>\\n                    </div>\\n    </form>\\n</div>\\n\\n        <div id=\"news-items\">\\n\\n            <div id=\"topnews\" class=\"important\">\\n            <div class=\"icon\"><img src=\"/bundles/templating/images/top_news/important.png\"></div>\\n            <div class=\"body\">\\n                <h1 style=\"font-size: 11pt;\">Potential Tornado Outbreak Today; Atmospheric River for the Northwest</h1>\\n                <p>\\n                    Severe thunderstorm outbreak with tornadoes, wind damage, and large hail are expected today from parts of the southern Plains, eastward into the lower Mississippi Valley and central Gulf Coast states. Several long-track strong tornadoes are expected. Furthermore, excessive rainfall potential exists with flash flooding possible. For the western US, heavy precipitation and strong winds continue.\\n                                                                <a href=\"http://www.wpc.ncep.noaa.gov/discussions/hpcdiscussions.php?disc=pmdspd\" target=\"_blank\">Read More &gt;</a>\\n                                    </p>\\n            </div>\\n        </div>\\n    \\n    </div>\\n\\n        <!-- PageFormat-Land -->\\n<script language=javascript>document.title = \\'7-Day Forecast 37.77N 122.41W\\';</script><img src=\"images/track_land_point.png\" style=\"display:none;\" /><div class=\"panel panel-danger\"><div class=\"panel-heading\"><h3 class=\"panel-title\">Hazardous Weather Conditions</h3></div><div class=\"panel-body\"><ul><li><a id=\"hazard-CAZ006-High+Surf+Advisory-0\" href=\"showsigwx.php?warnzone=CAZ006&warncounty=CAC075&firewxzone=CAZ006&local_place1=San Francisco CA&product1=High+Surf+Advisory&lat=37.7772&lon=-122.4168\" class=\"anchor-hazards\">High Surf Advisory  until December 29, 04:00 AM PST</a></li></ul></div></div>\\n<!-- Current Conditions -->\\n<div id=\"current-conditions\" class=\"panel panel-default\">\\n\\n    <!-- Current Conditions header row -->\\n    <div class=\"panel-heading\">\\n        <div>\\n            <b>Current conditions at</b>\\n            <h2 class=\"panel-title\">SAN FRANCISCO DOWNTOWN (SFOC1)</h2>\\n            <span class=\"smallTxt\"><b>Lat:&nbsp;</b>37.77056&deg;N<b>Lon:&nbsp;</b>122.42694&deg;W<b>Elev:&nbsp;</b>150.0ft.</span>\\n        </div>\\n    </div>\\n    <div class=\"panel-body\" id=\"current-conditions-body\">\\n        <!-- Graphic and temperatures -->\\n        <div id=\"current_conditions-summary\" class=\"pull-left\" >\\n                        <p class=\"myforecast-current\">NA</p>\\n            <p class=\"myforecast-current-lrg\">57&deg;F</p>\\n            <p class=\"myforecast-current-sm\">14&deg;C</p>\\n        </div>\\n        <div id=\"current_conditions_detail\" class=\"pull-left\">\\n            <table>\\n            <tr>\\n            <td class=\"text-right\"><b>Humidity</b></td>\\n            <td>NA</td>\\n            </tr>\\n            <tr>\\n            <td class=\"text-right\"><b>Wind Speed</b></td>\\n            <td>NA NA MPH</td>\\n            </tr>\\n            <tr>\\n            <td class=\"text-right\"><b>Barometer</b></td>\\n            <td>NA</td>\\n            </tr>\\n            <tr>\\n            <td class=\"text-right\"><b>Dewpoint</b></td>\\n            <td>N/A</td>\\n            </tr>\\n            <tr>\\n            <td class=\"text-right\"><b>Visibility</b></td>\\n            <td>NA</td>\\n            </tr>\\n                        <tr>\\n            <td class=\"text-right\"><b>Last update</b></td>\\n            <td>\\n                NA            </td>\\n            </tr>\\n            </table>\\n        </div>\\n        <div id=\"current_conditions_station\">\\n            <div class=\"current-conditions-extra\">\\n                            <!-- Right hand section -->\\n            <p class=\"moreInfo\"><b>More Information:</b></p><p><a id=\"localWFO\" href=\"https://www.weather.gov/mtr\" title=\"San Francisco Bay Area/Monterey, CA\"><span class=\"hideText\">Local</span> Forecast Office</a><a id=\"moreWx\" href=\"https://www.weather.gov/wrh/LocalWeather?zone=CAZ006\">More Local Wx</a><a href=\"https://www.weather.gov/mesowest/getobext.php?wfo=mtr&sid=SFOC1&num=72&raw=0\">3 Day History</a><a id=\"wxGraph\" href=\"MapClick.php?lat=37.7772&lon=-122.4168&unit=0&amp;lg=english&amp;FcstType=graphical\">Hourly <span class=\"hideText\">Weather </span>Forecast</a></p>            </div>\\n        <!-- /current_conditions_station -->\\n        </div>\\n        <!-- /current-conditions-body -->\\n    </div>\\n<!-- /Current Conditions -->\\n</div>\\n\\n<!-- 7-Day Forecast -->\\n<div id=\"seven-day-forecast\" class=\"panel panel-default\">\\n    <div class=\"panel-heading\">\\n    <b>Extended Forecast for</b>\\n    <h2 class=\"panel-title\">\\n                San Francisco CA    </h2>\\n    </div>\\n    <div class=\"panel-body\" id=\"seven-day-forecast-body\">\\n            <div id=\"seven-day-forecast-container\"><div id=\"headline-container\" class=\"current-hazard\" style=\"margin-left: 124px\"><div id=\"headline-separator\" style=\"top: 34px; height: 131px\"></div><div id=\"headline-info\" style=\"margin-top: 5px\" onclick=\"$(\\'#headline-detail\\').toggle(); $(\\'#headline-detail-now\\').hide()\"><div id=\"headline-detail\"><div>High Surf Advisory December 28, 11:02am until December 29, 04:00am</div></div><span class=\"fa fa-info-circle\"></span>Click here for hazard details and duration</div><div class=\"headline-bar headline-advisory \" style=\"top: 40px; left: 19px; height: 125px; width: 208px\">\\n<div class=\"headline-title\">High Surf Advisory</div>\\n</div></div><ul id=\"seven-day-forecast-list\" class=\"list-unstyled\" style=\"padding-top: 60px\"><li class=\"forecast-tombstone current-hazard current-hazard-advisory\" onclick=\"$(\\'#headline-detail-now\\').toggle(); $(\\'#headline-detail\\').hide()\"><div class=\"top-bar\">\\n                &nbsp;\\n                <div id=\"headline-detail-now\"><div>High Surf Advisory December 28, 11:02am until December 29, 04:00am</div></div><span class=\"tab\"></span><span class=\"fa fa-info-circle\"></span></div><div class=\"tombstone-container\"><p class=\"period-name\">\\n                                            NOW until 4:00am Sun\\n                                    </p><p><img class=\"forecast-icon\" src=\"newimages/medium/bkn.png\" /></p><p class=\"short-desc\">High Surf Advisory</p></div></li><li class=\"forecast-tombstone\"><div class=\"tombstone-container\"><p class=\"period-name\">Today</p><p><img class=\"forecast-icon\" src=\"newimages/medium/bkn.png\" alt=\"\" title=\"\" /></p><p class=\"temp temp-high\">High: 60 &deg;F</p><p class=\"short-desc\">Mostly Cloudy</p></div></li><li class=\"forecast-tombstone\"><div class=\"tombstone-container\"><p class=\"period-name\">Tonight</p><p><img class=\"forecast-icon\" src=\"newimages/medium/nra20.png\" alt=\"Tonight: A slight chance of rain or drizzle before 4am, then a slight chance of rain between 4am and 5am, then a slight chance of drizzle after 5am.  Mostly cloudy, with a low around 54. South wind 7 to 9 mph.  Chance of precipitation is 20%. New precipitation amounts of less than a tenth of an inch possible. \" title=\"Tonight: A slight chance of rain or drizzle before 4am, then a slight chance of rain between 4am and 5am, then a slight chance of drizzle after 5am.  Mostly cloudy, with a low around 54. South wind 7 to 9 mph.  Chance of precipitation is 20%. New precipitation amounts of less than a tenth of an inch possible. \" /></p><p class=\"temp temp-low\">Low: 54 &deg;F</p><p class=\"short-desc\">Slight Chance<br>Rain</p></div></li><li class=\"forecast-tombstone\"><div class=\"tombstone-container\"><p class=\"period-name\">Sunday</p><p><img class=\"forecast-icon\" src=\"DualImage.php?i=ra&j=ra&ip=90&jp=50\" alt=\"Sunday: Rain, mainly before noon.  High near 60. South wind 16 to 18 mph becoming west in the afternoon. Winds could gust as high as 33 mph.  Chance of precipitation is 90%. New precipitation amounts between a tenth and quarter of an inch possible. \" title=\"Sunday: Rain, mainly before noon.  High near 60. South wind 16 to 18 mph becoming west in the afternoon. Winds could gust as high as 33 mph.  Chance of precipitation is 90%. New precipitation amounts between a tenth and quarter of an inch possible. \" /></p><p class=\"temp temp-high\">High: 60 &deg;F</p><p class=\"short-desc\">Rain then<br>Chance Rain</p></div></li><li class=\"forecast-tombstone\"><div class=\"tombstone-container\"><p class=\"period-name\">Sunday Night</p><p><img class=\"forecast-icon\" src=\"newimages/medium/nfew.png\" alt=\"Sunday Night: Mostly clear, with a low around 46. North northwest wind 6 to 9 mph. \" title=\"Sunday Night: Mostly clear, with a low around 46. North northwest wind 6 to 9 mph. \" /></p><p class=\"temp temp-low\">Low: 46 &deg;F</p><p class=\"short-desc\">Mostly Clear</p></div></li><li class=\"forecast-tombstone\"><div class=\"tombstone-container\"><p class=\"period-name\">Monday</p><p><img class=\"forecast-icon\" src=\"newimages/medium/few.png\" alt=\"Monday: Sunny, with a high near 57. North wind 5 to 7 mph. \" title=\"Monday: Sunny, with a high near 57. North wind 5 to 7 mph. \" /></p><p class=\"temp temp-high\">High: 57 &deg;F</p><p class=\"short-desc\">Sunny</p></div></li><li class=\"forecast-tombstone\"><div class=\"tombstone-container\"><p class=\"period-name\">Monday Night</p><p><img class=\"forecast-icon\" src=\"newimages/medium/nfew.png\" alt=\"Monday Night: Mostly clear, with a low around 44.\" title=\"Monday Night: Mostly clear, with a low around 44.\" /></p><p class=\"temp temp-low\">Low: 44 &deg;F</p><p class=\"short-desc\">Mostly Clear</p></div></li><li class=\"forecast-tombstone\"><div class=\"tombstone-container\"><p class=\"period-name\">Tuesday</p><p><img class=\"forecast-icon\" src=\"newimages/medium/sct.png\" alt=\"Tuesday: Mostly sunny, with a high near 57.\" title=\"Tuesday: Mostly sunny, with a high near 57.\" /></p><p class=\"temp temp-high\">High: 57 &deg;F</p><p class=\"short-desc\">Mostly Sunny</p></div></li><li class=\"forecast-tombstone\"><div class=\"tombstone-container\"><p class=\"period-name\">Tuesday Night</p><p><img class=\"forecast-icon\" src=\"newimages/medium/nsct.png\" alt=\"Tuesday Night: Partly cloudy, with a low around 45.\" title=\"Tuesday Night: Partly cloudy, with a low around 45.\" /></p><p class=\"temp temp-low\">Low: 45 &deg;F</p><p class=\"short-desc\">Partly Cloudy</p></div></li></ul></div>\\n<script type=\"text/javascript\">\\n// equalize forecast heights\\n$(function () {\\n    var maxh = 0;\\n    $(\".forecast-tombstone .short-desc\").each(function () {\\n        var h = $(this).height();\\n        if (h > maxh) { maxh = h; }\\n    });\\n    $(\".forecast-tombstone .short-desc\").height(maxh);\\n});\\n</script>    </div>\\n</div>\\n\\n<!-- Everything between 7-Day Forecast and Footer goes in this row -->\\n<div id=\"floatingDivs\" class=\"row\">\\n    <!-- Everything on the left-hand side -->\\n    <div class=\"col-md-7 col-lg-8\">\\n        <!-- Detailed Forecast -->\\n        <div id=\"detailed-forecast\" class=\"panel panel-default\">\\n        <div class=\"panel-heading\">\\n            <h2 class=\"panel-title\">Detailed Forecast</h2>\\n        </div>\\n        <div class=\"panel-body\" id=\"detailed-forecast-body\">\\n            <div class=\"row row-odd row-forecast\"><div class=\"col-sm-2 forecast-label\"><b>Today</b></div><div class=\"col-sm-10 forecast-text\">Mostly cloudy, with a high near 60. Southwest wind around 9 mph. </div></div><div class=\"row row-even row-forecast\"><div class=\"col-sm-2 forecast-label\"><b>Tonight</b></div><div class=\"col-sm-10 forecast-text\">A slight chance of rain or drizzle before 4am, then a slight chance of rain between 4am and 5am, then a slight chance of drizzle after 5am.  Mostly cloudy, with a low around 54. South wind 7 to 9 mph.  Chance of precipitation is 20%. New precipitation amounts of less than a tenth of an inch possible. </div></div><div class=\"row row-odd row-forecast\"><div class=\"col-sm-2 forecast-label\"><b>Sunday</b></div><div class=\"col-sm-10 forecast-text\">Rain, mainly before noon.  High near 60. South wind 16 to 18 mph becoming west in the afternoon. Winds could gust as high as 33 mph.  Chance of precipitation is 90%. New precipitation amounts between a tenth and quarter of an inch possible. </div></div><div class=\"row row-even row-forecast\"><div class=\"col-sm-2 forecast-label\"><b>Sunday Night</b></div><div class=\"col-sm-10 forecast-text\">Mostly clear, with a low around 46. North northwest wind 6 to 9 mph. </div></div><div class=\"row row-odd row-forecast\"><div class=\"col-sm-2 forecast-label\"><b>Monday</b></div><div class=\"col-sm-10 forecast-text\">Sunny, with a high near 57. North wind 5 to 7 mph. </div></div><div class=\"row row-even row-forecast\"><div class=\"col-sm-2 forecast-label\"><b>Monday Night</b></div><div class=\"col-sm-10 forecast-text\">Mostly clear, with a low around 44.</div></div><div class=\"row row-odd row-forecast\"><div class=\"col-sm-2 forecast-label\"><b>Tuesday</b></div><div class=\"col-sm-10 forecast-text\">Mostly sunny, with a high near 57.</div></div><div class=\"row row-even row-forecast\"><div class=\"col-sm-2 forecast-label\"><b>Tuesday Night</b></div><div class=\"col-sm-10 forecast-text\">Partly cloudy, with a low around 45.</div></div><div class=\"row row-odd row-forecast\"><div class=\"col-sm-2 forecast-label\"><b>New Year\\'s Day</b></div><div class=\"col-sm-10 forecast-text\">Mostly sunny, with a high near 58.</div></div><div class=\"row row-even row-forecast\"><div class=\"col-sm-2 forecast-label\"><b>Wednesday Night</b></div><div class=\"col-sm-10 forecast-text\">Mostly cloudy, with a low around 46.</div></div><div class=\"row row-odd row-forecast\"><div class=\"col-sm-2 forecast-label\"><b>Thursday</b></div><div class=\"col-sm-10 forecast-text\">Mostly sunny, with a high near 61.</div></div><div class=\"row row-even row-forecast\"><div class=\"col-sm-2 forecast-label\"><b>Thursday Night</b></div><div class=\"col-sm-10 forecast-text\">A slight chance of rain.  Mostly cloudy, with a low around 49.</div></div><div class=\"row row-odd row-forecast\"><div class=\"col-sm-2 forecast-label\"><b>Friday</b></div><div class=\"col-sm-10 forecast-text\">A chance of rain.  Partly sunny, with a high near 61.</div></div>        </div>\\n    </div>\\n    <!-- /Detailed Forecast -->\\n\\n        \\n        <!-- Additional Forecasts and Information -->\\n        <div id=\"additional_forecasts\" class=\"panel panel-default\">\\n        <div class=\"panel-heading\">\\n        <h2 class=\"panel-title\">Additional Forecasts and Information</h2>\\n        </div>\\n\\n        <div class=\"panel-body\" id=\"additional-forecasts-body\">\\n        <p class=\"myforecast-location\"><a href=\"MapClick.php?zoneid=CAZ006\">Zone Area Forecast for San Francisco County, CA</a></p>\\n                <!-- First nine-ten links -->\\n        <div id=\"linkBlockContainer\">\\n            <div class=\"linkBlock\">\\n                <ul class=\"list-unstyled\">\\n                    <li><a href=\"https://forecast.weather.gov/product.php?site=MTR&issuedby=MTR&product=AFD&format=CI&version=1&glossary=1\">Forecast Discussion</a></li>\\n                    <li><a href=\"MapClick.php?lat=37.7772&lon=-122.4168&unit=0&lg=english&FcstType=text&TextType=2\">Printable Forecast</a></li>\\n                    <li><a href=\"MapClick.php?lat=37.7772&lon=-122.4168&unit=0&lg=english&FcstType=text&TextType=1\">Text Only Forecast</a></li>\\n                </ul>\\n            </div>\\n            <div class=\"linkBlock\">\\n                <ul class=\"list-unstyled\">\\n                    <li><a href=\"MapClick.php?lat=37.7772&lon=-122.4168&unit=0&lg=english&FcstType=graphical\">Hourly Weather Forecast</a></li>\\n                    <li><a href=\"MapClick.php?lat=37.7772&lon=-122.4168&unit=0&lg=english&FcstType=digital\">Tabular Forecast</a></li>\\n                    <!-- <li><a href=\"afm/PointClick.php?lat=37.7772&lon=-122.4168\">Quick Forecast</a></li> -->\\n                </ul>\\n            </div>\\n            <div class=\"linkBlock\">\\n                <ul class=\"list-unstyled\">\\n                    <li><a href=\"//weather.gov/aq/probe_aq_data.php?latitude=37.7772&longitude=-122.4168\">Air Quality Forecasts</a></li>\\n                    <li><a href=\"MapClick.php?lat=37.7772&lon=-122.4168&FcstType=text&unit=1&lg=en\">International System of Units</a></li>\\n                                        <li><a href=\"//www.wrh.noaa.gov/forecast/wxtables/index.php?lat=37.7772&lon=-122.4168\">Forecast Weather Table Interface</a></li>\\n                                    </ul>\\n            </div>\\n            <!-- /First nine-ten links -->\\n                <!-- Additional links -->\\n                    <div class=\"linkBlock\"><ul class=\"list-unstyled\"><li><a href=\"http://www.wrh.noaa.gov/mtr/versprod.php?pil=RR8&sid=RSA\" target=\"_self\">Hourly River Stages</a></li><li><a href=\"http://www.wrh.noaa.gov/mtr/versprod.php?pil=RR5&sid=RSA\" target=\"_self\">Hourly Rainfall</a></li></ul></div><div class=\"linkBlock\"><ul class=\"list-unstyled\"><li><a href=\"http://www.wrh.noaa.gov/mtr/wxlinks.php\" target=\"_self\">NWS Office Map</a></li><li><a href=\"http://www.wrh.noaa.gov/mtr/wx_calculator.php\" target=\"_self\">Weather Calculator</a></li></ul></div><div class=\"linkBlock\"><ul class=\"list-unstyled\"><li><a href=\"http://www.nws.noaa.gov/wtf/udaf/area/?site=mtr\" target=\"_self\">User Defined Area</a></li></ul></div>\\n        </div> <!-- /linkBlockContainer -->\\n        </div><!-- /additional-forecasts-body-->\\n    </div> <!-- /additional_forecasts -->\\n    </div> <!-- /Everything on the left-hand side -->\\n\\n    <!-- right-side-data -->\\n    <div class=\"col-md-5 col-lg-4\" id=\"right-side-data\">\\n    <div id=\"mapAndDescriptionArea\">\\n        <!-- openlayer map -->\\n            <style>\\n#custom-search{\\ndisplay: block;\\nposition: relative;\\nz-index: 50;\\ntop: 52px;\\nleft: 60px;\\n}\\n#esri-geocoder-search{\\ndisplay: block;\\nposition: relative;\\nz-index: 50;\\ntop: 52px;\\nleft: 60px;\\n}\\n#emap{\\nmargin-top:15px;\\ncursor:pointer;\\nheight:370px;\\nwidth:100%;\\nborder: 1px solid #ccc;\\nborder-radius: 3px;\\n}\\n#switch-basemap-container{\\n}\\n#basemap-selection-form ul{\\nlist-style: none;\\n margin: 0px;\\n}\\n#basemap-selection-form li{\\nfloat: left;\\n}\\n.disclaimer{\\nmargin-top:350px;\\nmargin-left: 5px;\\nz-index: 100;\\nposition: absolute;\\ntext-transform: none;\\n}\\n.esriAttributionLastItem{\\ntext-transform: none;\\n}\\n.esriSimpleSlider div{\\nheight:22px;\\nline-height:20px;\\nwidth:20px;\\n}\\n#point-forecast-map-label {\\ntext-align:center;\\nfont-weight:bold;\\ncolor:black;\\n}\\n@media (max-width: 767px) {\\n#emap{\\nmargin-top:.5em;\\nheight:270px;\\n}\\n.disclaimer{\\nmargin-top:250px;\\n}\\n}\\n</style>\\n<!-- forecast-map -->\\n<div class=\\'point-forecast-map\\'>\\n    <div class=\\'point-forecast-map-header text-center\\'>\\n        <div id=\"toolbar\">\\n        <div id=\"switch-basemap-container\">\\n            <div id=\"basemap-selection-form\" title=\"Choose a Basemap\">\\n            <div id=\"basemap-menu\">\\n                <select name=\"basemap-selected\" id=\"basemap-selected\" autocomplete=\"off\" title=\"Basemap Dropdown Menu\">\\n                <option value=\"none\">Select Basemap</option>\\n                <option value=\"topo\" selected>Topographic</option>\\n                <option value=\"streets\">Streets</option>\\n                <option value=\"satellite\">Satellite</option>\\n                <option value=\"ocean\">Ocean</option>\\n                </select>\\n            </div>\\n            </div>\\n            <div id=\"point-forecast-map-label\">\\n                    Click Map For Forecast\\n                </div>\\n        </div><!-- //#switch-basemap-container -->\\n        <div style=\"clear:both;\"></div>\\n        </div><!-- //#toolbar -->\\n    </div><!-- //.point-forecast-map-header -->\\n\\n    <div id=\"emap\">\\n        <noscript><center><br><br><b>Map function requires Javascript and a compatible browser.</b></center></noscript>\\n        <div class=\"disclaimer\"><a href=\\'http://www.weather.gov/disclaimer#esri\\'>Disclaimer</a></div>\\n    </div><!-- //#emap -->\\n\\n    <div class=\"point-forecast-map-footer\">\\n        <img src=\"./images/wtf/maplegend_forecast-area.gif\" width=\"100\" height=\"16\" alt=\"Map Legend\">\\n    </div><!-- //.point-forecast-map-footer -->\\n\\n</div> <!-- //.point-forecast-map -->\\n<!-- //forecast-map -->\\n        <!-- //openlayer map -->\\n\\n        <!-- About this Forecast -->\\n        <div id=\"about_forecast\" class=\"panel panel-default\">\\n            <div class=\"panel-heading collapse-heading clearfix\">\\n                <button type=\"button\" class=\"menu-toggle\" data-toggle=\"collapse\" data-target=\"#about-forecast-body\">\\n                    <span class=\"sr-only\">Toggle menu</span>\\n                    <span class=\"icon-bar\"></span>\\n                    <span class=\"icon-bar\"></span>\\n                    <span class=\"icon-bar\"></span>\\n                </button>\\n                <div class=\"collapse-title\">\\n                    <h2 class=\"panel-title\">ABOUT THIS FORECAST</h2>\\n                </div>\\n            </div>\\n            <div>&nbsp;</div>\\n            <div class=\"fullRow\">\\n                <div class=\"left\">Point Forecast:</div>\\n                <div class=\"right\">San Francisco CA<br>&nbsp;37.77&deg;N 122.41&deg;W (Elev. 131 ft)</div>\\n                    </div>\\n            <div class=\"fullRow\">\\n                <div class=\"left\"><a target=\"_blank\" href=\"//www.weather.gov/glossary/index.php?word=Last+update\">Last Update</a>: </div>\\n                <div class=\"right\">10:19 am PST Dec 28, 2024</div>\\n            </div>\\n            <div class=\"fullRow\">\\n                <div class=\"left\"><a target=\"_blank\" href=\"//www.weather.gov/glossary/index.php?word=forecast+valid+for\">Forecast Valid</a>: </div>\\n                <div class=\"right\">11am PST Dec 28, 2024-6pm PST Jan 3, 2025</div>\\n            </div>\\n            <div class=\"fullRow\">\\n                <div class=\"left\">&nbsp;</div>\\n                <div class=\"right\"><a href=\"//forecast.weather.gov/product.php?site=MTR&issuedby=MTR&product=AFD&format=CI&version=1&glossary=1\">Forecast Discussion</a></div>\\n            </div>\\n            <div class=\"fullRow\">\\n                <div class=\"left\">&nbsp;</div>\\n                <div class=\"right\">\\n                    <a href=\"MapClick.php?lat=37.7772&lon=-122.4168&unit=0&lg=english&FcstType=kml\"><img src=\"/images/wtf/kml_badge.png\" width=\"45\" height=\"17\" alt=\"Get as KML\" /></a>\\n                    <a href=\"MapClick.php?lat=37.7772&lon=-122.4168&unit=0&lg=english&FcstType=dwml\"><img src=\"/images/wtf/xml_badge.png\" width=\"45\" height=\"17\" alt=\"Get as XML\" /></a>\\n                </div>\\n            </div>\\n        </div>\\n        <!-- /About this Forecast -->\\n    </div>\\n    \\n        <!--additionalForecast-->\\n        <div class=\"panel panel-default\" id=\"additionalForecast\">\\n            <div class=\"panel-heading\">\\n                <h2 class=\"panel-title\">Additional Resources</h2>\\n            </div>\\n            <div class=\"panel-body\">\\n\\n                <!-- Radar & Satellite Images -->\\n                <div id=\"radar\" class=\"subItem\">\\n                    <h4>Radar &amp; Satellite Image</h4>\\n                    <a href=\"https://radar.weather.gov/station/kmux/standard\"><img src=\"https://radar.weather.gov/ridge/standard/KMUX_0.gif\" class=\"radar-thumb\" alt=\"Link to Local Radar Data\" title=\"Link to Local Radar Data\"></a>                    <a href=\"https://www.star.nesdis.noaa.gov/GOES/sector.php?sat=G17&sector=psw\"><img src=\"https://cdn.star.nesdis.noaa.gov/GOES17/ABI/SECTOR/psw/GEOCOLOR/600x600.jpg\" class=\"satellite-thumb\" alt=\"Link to Satellite Data\" title=\"Link to Satellite Data\"></a>                </div>\\n                <!-- /Radar & Satellite Images -->\\n                <!-- Hourly Weather Forecast -->\\n                <div id=\"feature\" class=\"subItem\">\\n                    <h4>Hourly Weather Forecast</h4>\\n                    <a href=\"MapClick.php?lat=37.7772&lon=-122.4168&unit=0&lg=english&FcstType=graphical\"><img src=\"newimages/medium/hourlyweather.png\" class=\"img-responsive\" /></a>\\n                </div>\\n                <!-- /Hourly Weather Forecast -->\\n                <!-- NDFD -->\\n                <div id=\"NDFD\" class=\"subItem\">\\n                    <h4>National Digital Forecast Database</h4>\\n                    <div class=\"one-sixth-first\"><a href=\"//graphical.weather.gov/sectors/pacsouthwest.php?element=MaxT\"><img src=\"//graphical.weather.gov/images/thumbnail/latest_MaxMinT_pacsouthwest_thumbnail.png\" border=\"0\" alt=\"National Digital Forecast Database Maximum Temperature Forecast\" title=\"National Digital Forecast Database Maximum Temperature Forecast\" width=\"147\" height=\"150\"></a>\\n                <p><a href=\"//graphical.weather.gov/sectors/pacsouthwest.php?element=MaxT\">High Temperature</a></p></div><div class=\"one-sixth-first\"><a href=\"//graphical.weather.gov/sectors/pacsouthwest.php?element=Wx\"><img src=\"//graphical.weather.gov/images/thumbnail/latest_Wx_pacsouthwest_thumbnail.png\" border=\"0\" alt=\"National Digital Forecast Database Weather Element Forecast\" title=\"National Digital Forecast Database Weather Element Forecast\" width=\"147\" height=\"150\"></a>\\n                <p><a href=\"//graphical.weather.gov/sectors/pacsouthwest.php?element=Wx\">Chance of Precipitation</a></p></div>                </div>\\n                <!-- /NDFD -->\\n            </div>\\n        </div>\\n        <!-- /additionalForecast -->\\n\\n    </div>\\n    <!-- /col-md-4 -->\\n    <!-- /right-side-data -->\\n    <script language=\\'javascript\\'>$( document ).ready(function() { load_openlayers_map(\\'\\', \\'\\', \\'\\', \\'{\"centroid_lat\":\"37.7772\",\"centroid_lon\":\"-122.4168\",\"lat1\":\"37.7595\",\"lon1\":\"-122.4205\",\"lat2\":\"37.78099995\",\"lon2\":\"-122.426\",\"lat3\":\"37.78549995\",\"lon3\":\"-122.3985\",\"lat4\":\"37.764\",\"lon4\":\"-122.393\"}\\') });</script></div>\\n<!-- /row  -->\\n\\n\\n</div>\\n<!-- /PageFormat-Land -->\\n\\n            </div>\\n            <footer>\\n                    <div id=\"sitemap\" class=\"sitemap-content row\">\\n    <div class=\"col-xs-12\">\\n        <div class=\"sitemap-columns\">\\n                                                                                                                <div class=\"sitemap-section\">\\n                            <div class=\"panel-heading\">\\n                                <a class=\"sitemap-section-heading\" href=\"https://alerts.weather.gov\">ACTIVE ALERTS</a>\\n                                <button type=\"button\" class=\"menu-toggle pull-right\" data-toggle=\"collapse\" data-target=\"#sitemap-1\">\\n                                    <span class=\"sr-only\">Toggle menu</span>\\n                                    <span class=\"icon-bar\"></span>\\n                                    <span class=\"icon-bar\"></span>\\n                                    <span class=\"icon-bar\"></span>\\n                                </button>\\n                            </div>\\n                            <div class=\"sitemap-section-body panel-body collapsable collapse\" id=\"sitemap-1\">\\n                                <ul class=\"list-unstyled\">\\n                                                                            <li><a href=\" https://alerts.weather.gov\">Warnings By State</a></li>\\n                                                                            <li><a href=\"https://www.wpc.ncep.noaa.gov/qpf/excessive_rainfall_outlook_ero.php\">Excessive Rainfall</a></li>\\n                                                                            <li><a href=\"https://www.wpc.ncep.noaa.gov/wwd/winter_wx.shtml\">Winter Weather Forecasts</a></li>\\n                                                                            <li><a href=\"https://water.noaa.gov/\">River Flooding </a></li>\\n                                                                            <li><a href=\"https://www.weather.gov\">Latest Warnings</a></li>\\n                                                                            <li><a href=\"https://www.spc.noaa.gov/products/outlook/\">Thunderstorm/Tornado Outlook </a></li>\\n                                                                            <li><a href=\"https://www.nhc.noaa.gov\">Hurricanes </a></li>\\n                                                                            <li><a href=\"https://www.spc.noaa.gov/products/fire_wx/\">Fire Weather Outlooks </a></li>\\n                                                                            <li><a href=\"https://www.cpc.ncep.noaa.gov/products/stratosphere/uv_index/uv_alert.shtml\">UV Alerts </a></li>\\n                                                                            <li><a href=\"https://www.drought.gov\">Drought </a></li>\\n                                                                            <li><a href=\"https://www.swpc.noaa.gov/products/alerts-watches-and-warnings\">Space Weather </a></li>\\n                                                                            <li><a href=\"https://www.weather.gov/nwr/\">NOAA Weather Radio </a></li>\\n                                                                            <li><a href=\"https://alerts.weather.gov\">NWS CAP Feeds </a></li>\\n                                                                    </ul>\\n                            </div>\\n                        </div>\\n                                                                    <div class=\"sitemap-section\">\\n                            <div class=\"panel-heading\">\\n                                <a class=\"sitemap-section-heading\" href=\"https://www.weather.gov/wrh/climate\">PAST WEATHER</a>\\n                                <button type=\"button\" class=\"menu-toggle pull-right\" data-toggle=\"collapse\" data-target=\"#sitemap-1\">\\n                                    <span class=\"sr-only\">Toggle menu</span>\\n                                    <span class=\"icon-bar\"></span>\\n                                    <span class=\"icon-bar\"></span>\\n                                    <span class=\"icon-bar\"></span>\\n                                </button>\\n                            </div>\\n                            <div class=\"sitemap-section-body panel-body collapsable collapse\" id=\"sitemap-1\">\\n                                <ul class=\"list-unstyled\">\\n                                                                            <li><a href=\"https://www.cpc.ncep.noaa.gov/products/MD_index.shtml\">Climate Monitoring </a></li>\\n                                                                            <li><a href=\"https://www.weather.gov/wrh/climate\">Past Weather </a></li>\\n                                                                            <li><a href=\"https://www.weather.gov/wrh/climate\">Monthly Temps </a></li>\\n                                                                            <li><a href=\"https://www.weather.gov/wrh/climate\">Records </a></li>\\n                                                                            <li><a href=\"https://www.gml.noaa.gov/grad/sunrise.html\">Astronomical Data </a></li>\\n                                                                            <li><a href=\"https://www.climate.gov/maps-data/dataset/past-weather-zip-code-data-table\">Certified Weather Data </a></li>\\n                                                                    </ul>\\n                            </div>\\n                        </div>\\n                                                                                                                                                    <div class=\"sitemap-section\">\\n                            <div class=\"panel-heading\">\\n                                <a class=\"sitemap-section-heading\" href=\"https://www.weather.gov/current\">CURRENT CONDITIONS</a>\\n                                <button type=\"button\" class=\"menu-toggle pull-right\" data-toggle=\"collapse\" data-target=\"#sitemap-2\">\\n                                    <span class=\"sr-only\">Toggle menu</span>\\n                                    <span class=\"icon-bar\"></span>\\n                                    <span class=\"icon-bar\"></span>\\n                                    <span class=\"icon-bar\"></span>\\n                                </button>\\n                            </div>\\n                            <div class=\"sitemap-section-body panel-body collapsable collapse\" id=\"sitemap-2\">\\n                                <ul class=\"list-unstyled\">\\n                                                                            <li><a href=\"https://radar.weather.gov\">Radar </a></li>\\n                                                                            <li><a href=\"https://www.cpc.ncep.noaa.gov/products/monitoring_and_data/\">Climate Monitoring </a></li>\\n                                                                            <li><a href=\"https://water.noaa.gov/\">River Levels </a></li>\\n                                                                            <li><a href=\"https://water.noaa.gov/precip\">Observed Precipitation </a></li>\\n                                                                            <li><a href=\"https://www.wpc.ncep.noaa.gov/sfc/sfcobs/sfcobs.shtml\">Surface Weather </a></li>\\n                                                                            <li><a href=\"https://www.spc.noaa.gov/obswx/maps/\">Upper Air </a></li>\\n                                                                            <li><a href=\"https://www.ndbc.noaa.gov\">Marine and Buoy Reports </a></li>\\n                                                                            <li><a href=\"https://www.nohrsc.noaa.gov/interactive/html/map.html\">Snow Cover </a></li>\\n                                                                            <li><a href=\" https://www.weather.gov/satellite\">Satellite </a></li>\\n                                                                            <li><a href=\"https://www.swpc.noaa.gov\">Space Weather </a></li>\\n                                                                            <li><a href=\"http://www.weather.gov/pr\">International Observations</a></li>\\n                                                                    </ul>\\n                            </div>\\n                        </div>\\n                                                                    <div class=\"sitemap-section\">\\n                            <div class=\"panel-heading\">\\n                                <a class=\"sitemap-section-heading\" href=\"https://weather.gov/forecastmaps/\">FORECAST</a>\\n                                <button type=\"button\" class=\"menu-toggle pull-right\" data-toggle=\"collapse\" data-target=\"#sitemap-2\">\\n                                    <span class=\"sr-only\">Toggle menu</span>\\n                                    <span class=\"icon-bar\"></span>\\n                                    <span class=\"icon-bar\"></span>\\n                                    <span class=\"icon-bar\"></span>\\n                                </button>\\n                            </div>\\n                            <div class=\"sitemap-section-body panel-body collapsable collapse\" id=\"sitemap-2\">\\n                                <ul class=\"list-unstyled\">\\n                                                                            <li><a href=\"https://www.weather.gov\">Local Forecast </a></li>\\n                                                                            <li><a href=\"https://www.weather.gov/pr\">International Forecasts</a></li>\\n                                                                            <li><a href=\"https://www.spc.noaa.gov\">Severe Weather </a></li>\\n                                                                            <li><a href=\"https://www.wpc.ncep.noaa.gov\">Current Outlook Maps </a></li>\\n                                                                            <li><a href=\"https://www.cpc.ncep.noaa.gov/products/Drought\">Drought </a></li>\\n                                                                            <li><a href=\"https://www.weather.gov/fire/\">Fire Weather </a></li>\\n                                                                            <li><a href=\"https://www.wpc.ncep.noaa.gov\">Fronts/Precipitation Maps </a></li>\\n                                                                            <li><a href=\"https://graphical.weather.gov\">Current Graphical Forecast Maps </a></li>\\n                                                                            <li><a href=\"https://water.noaa.gov\">Rivers </a></li>\\n                                                                            <li><a href=\"https://www.weather.gov/marine/\">Marine </a></li>\\n                                                                            <li><a href=\"https://ocean.weather.gov/marine_areas.php\">Offshore and High Seas</a></li>\\n                                                                            <li><a href=\"http://www.nhc.noaa.gov\">Hurricanes </a></li>\\n                                                                            <li><a href=\"https://aviationweather.gov\">Aviation Weather </a></li>\\n                                                                            <li><a href=\"https://www.cpc.ncep.noaa.gov/products/OUTLOOKS_index.shtml\">Climatic Outlook </a></li>\\n                                                                    </ul>\\n                            </div>\\n                        </div>\\n                                                                                                                                                    <div class=\"sitemap-section\">\\n                            <div class=\"panel-heading\">\\n                                <a class=\"sitemap-section-heading\" href=\"https://www.weather.gov/informationcenter/\">INFORMATION CENTER</a>\\n                                <button type=\"button\" class=\"menu-toggle pull-right\" data-toggle=\"collapse\" data-target=\"#sitemap-3\">\\n                                    <span class=\"sr-only\">Toggle menu</span>\\n                                    <span class=\"icon-bar\"></span>\\n                                    <span class=\"icon-bar\"></span>\\n                                    <span class=\"icon-bar\"></span>\\n                                </button>\\n                            </div>\\n                            <div class=\"sitemap-section-body panel-body collapsable collapse\" id=\"sitemap-3\">\\n                                <ul class=\"list-unstyled\">\\n                                                                            <li><a href=\"https://www.spaceweather.gov\">Space Weather </a></li>\\n                                                                            <li><a href=\"https://www.weather.gov/briefing/\">Daily Briefing </a></li>\\n                                                                            <li><a href=\"https://www.weather.gov/marine/\">Marine </a></li>\\n                                                                            <li><a href=\"https://www.weather.gov/wrh/climate\">Climate </a></li>\\n                                                                            <li><a href=\"https://www.weather.gov/fire/\">Fire Weather </a></li>\\n                                                                            <li><a href=\"https://aviationweather.gov/\">Aviation </a></li>\\n                                                                            <li><a href=\"http://mag.ncep.noaa.gov/\">Forecast Models </a></li>\\n                                                                            <li><a href=\"https://water.noaa.gov/\">Water </a></li>\\n                                                                            <li><a href=\"https://www.weather.gov/gis/\">GIS</a></li>\\n                                                                            <li><a href=\"https://www.weather.gov/coop/\">Cooperative Observers </a></li>\\n                                                                            <li><a href=\"https://www.weather.gov/skywarn/\">Storm Spotters </a></li>\\n                                                                            <li><a href=\"https://www.tsunami.gov\">Tsunami Warning System</a></li>\\n                                                                            <li><a href=\"https://water.noaa.gov/\">National Water Center</a></li>\\n                                                                            <li><a href=\"https://www.weather.gov/pr\">International Weather</a></li>\\n                                                                    </ul>\\n                            </div>\\n                        </div>\\n                                                                                                                                                    <div class=\"sitemap-section\">\\n                            <div class=\"panel-heading\">\\n                                <a class=\"sitemap-section-heading\" href=\"https://weather.gov/safety/\">WEATHER SAFETY</a>\\n                                <button type=\"button\" class=\"menu-toggle pull-right\" data-toggle=\"collapse\" data-target=\"#sitemap-4\">\\n                                    <span class=\"sr-only\">Toggle menu</span>\\n                                    <span class=\"icon-bar\"></span>\\n                                    <span class=\"icon-bar\"></span>\\n                                    <span class=\"icon-bar\"></span>\\n                                </button>\\n                            </div>\\n                            <div class=\"sitemap-section-body panel-body collapsable collapse\" id=\"sitemap-4\">\\n                                <ul class=\"list-unstyled\">\\n                                                                            <li><a href=\"https://www.weather.gov/nwr/\">NOAA Weather Radio</a></li>\\n                                                                            <li><a href=\"https://www.weather.gov/stormready/\">StormReady</a></li>\\n                                                                            <li><a href=\"https://www.weather.gov/safety/heat\">Heat </a></li>\\n                                                                            <li><a href=\"https://www.weather.gov/safety/lightning\">Lightning </a></li>\\n                                                                            <li><a href=\"https://www.nhc.noaa.gov/prepare/\">Hurricanes </a></li>\\n                                                                            <li><a href=\"https://www.weather.gov/safety/thunderstorm\">Thunderstorms </a></li>\\n                                                                            <li><a href=\"https://www.weather.gov/safety/tornado\">Tornadoes </a></li>\\n                                                                            <li><a href=\"https://www.weather.gov/safety/ripcurrent\">Rip Currents </a></li>\\n                                                                            <li><a href=\"https://www.weather.gov/safety/flood\">Floods </a></li>\\n                                                                            <li><a href=\"https://www.weather.gov/safety/tsunami\">Tsunamis</a></li>\\n                                                                            <li><a href=\"https://www.weather.gov/tsunamiready/\">TsunamiReady</a></li>\\n                                                                            <li><a href=\"https://www.weather.gov/safety/winter\">Winter Weather </a></li>\\n                                                                            <li><a href=\"https://www.weather.gov/safety/heat-uv\">Ultra Violet Radiation </a></li>\\n                                                                            <li><a href=\"https://airquality.weather.gov\">Air Quality </a></li>\\n                                                                            <li><a href=\"https://www.weather.gov/hazstat/\">Damage/Fatality/Injury Statistics </a></li>\\n                                                                            <li><a href=\"http://www.redcross.org\">Red Cross </a></li>\\n                                                                            <li><a href=\"http://www.fema.gov\">Federal Emergency Management Agency (FEMA) </a></li>\\n                                                                            <li><a href=\"https://www.weather.gov/owlie/publication_brochures\">Brochures </a></li>\\n                                                                            <li><a href=\"https://www.weather.gov/safety/safeboating\">Safe Boating</a></li>\\n                                                                    </ul>\\n                            </div>\\n                        </div>\\n                                                                                                                                                    <div class=\"sitemap-section\">\\n                            <div class=\"panel-heading\">\\n                                <a class=\"sitemap-section-heading\" href=\"https://weather.gov/news\">NEWS</a>\\n                                <button type=\"button\" class=\"menu-toggle pull-right\" data-toggle=\"collapse\" data-target=\"#sitemap-5\">\\n                                    <span class=\"sr-only\">Toggle menu</span>\\n                                    <span class=\"icon-bar\"></span>\\n                                    <span class=\"icon-bar\"></span>\\n                                    <span class=\"icon-bar\"></span>\\n                                </button>\\n                            </div>\\n                            <div class=\"sitemap-section-body panel-body collapsable collapse\" id=\"sitemap-5\">\\n                                <ul class=\"list-unstyled\">\\n                                                                            <li><a href=\"https://weather.gov/news/\">Newsroom</a></li>\\n                                                                            <li><a href=\"https://www.weather.gov/wrn/calendar\">Events</a></li>\\n                                                                            <li><a href=\"https://www.weather.gov/owlie/publication_brochures\">Pubs/Brochures/Booklets </a></li>\\n                                                                    </ul>\\n                            </div>\\n                        </div>\\n                                                                    <div class=\"sitemap-section\">\\n                            <div class=\"panel-heading\">\\n                                <a class=\"sitemap-section-heading\" href=\"https://www.weather.gov/owlie/\">EDUCATION</a>\\n                                <button type=\"button\" class=\"menu-toggle pull-right\" data-toggle=\"collapse\" data-target=\"#sitemap-5\">\\n                                    <span class=\"sr-only\">Toggle menu</span>\\n                                    <span class=\"icon-bar\"></span>\\n                                    <span class=\"icon-bar\"></span>\\n                                    <span class=\"icon-bar\"></span>\\n                                </button>\\n                            </div>\\n                            <div class=\"sitemap-section-body panel-body collapsable collapse\" id=\"sitemap-5\">\\n                                <ul class=\"list-unstyled\">\\n                                                                            <li><a href=\"https://www.weather.gov/education/\">NWS Education Home</a></li>\\n                                                                            <li><a href=\"https://www.weather.gov/wrn/force\">Be A Force of Nature</a></li>\\n                                                                            <li><a href=\"https://www.noaa.gov/education/resource-collections/weather-atmosphere\">NOAA Education Resources </a></li>\\n                                                                            <li><a href=\"https://forecast.weather.gov/glossary.php\">Glossary </a></li>\\n                                                                            <li><a href=\"https://www.noaa.gov/jetstream\">JetStream </a></li>\\n                                                                            <li><a href=\"https://training.weather.gov\">NWS Training Portal </a></li>\\n                                                                            <li><a href=\"https://library.noaa.gov\">NOAA Library </a></li>\\n                                                                            <li><a href=\"https://www.weather.gov/owlie/\">For Students, Parents and Teachers</a></li>\\n                                                                            <li><a href=\"http://www.weather.gov/owlie/publication_brochures\">Brochures </a></li>\\n                                                                    </ul>\\n                            </div>\\n                        </div>\\n                                                                                                                                                    <div class=\"sitemap-section\">\\n                            <div class=\"panel-heading\">\\n                                <a class=\"sitemap-section-heading\" href=\"https://www.weather.gov/about/\">ABOUT</a>\\n                                <button type=\"button\" class=\"menu-toggle pull-right\" data-toggle=\"collapse\" data-target=\"#sitemap-6\">\\n                                    <span class=\"sr-only\">Toggle menu</span>\\n                                    <span class=\"icon-bar\"></span>\\n                                    <span class=\"icon-bar\"></span>\\n                                    <span class=\"icon-bar\"></span>\\n                                </button>\\n                            </div>\\n                            <div class=\"sitemap-section-body panel-body collapsable collapse\" id=\"sitemap-6\">\\n                                <ul class=\"list-unstyled\">\\n                                                                            <li><a href=\"https://www.weather.gov/organization/\">Organization </a></li>\\n                                                                            <li><a href=\"https://www.noaa.gov/NWStransformation\">NWS Transformation</a></li>\\n                                                                            <li><a href=\"https://www.weather.gov/media/wrn/NWS-2023-Strategic-Plan.pdf\">Strategic Plan </a></li>\\n                                                                            <li><a href=\"https://www.weather.gov/insider\">For NWS Employees </a></li>\\n                                                                            <li><a href=\"https://www.weather.gov/international/\">International </a></li>\\n                                                                            <li><a href=\"https://www.weather.gov/ncep/\">National Centers </a></li>\\n                                                                            <li><a href=\"https://www.weather.gov/tg/\">Products and Services </a></li>\\n                                                                            <li><a href=\"https://www.noaa.gov/nws-careers\">Careers</a></li>\\n                                                                            <li><a href=\"https://forecast.weather.gov/glossary.php\">Glossary </a></li>\\n                                                                            <li><a href=\"https://www.weather.gov/contact/\">Contact Us </a></li>\\n                                                                            <li><a href=\"https://www.weather.gov/socialmedia/\">Social Media</a></li>\\n                                                                    </ul>\\n                            </div>\\n                        </div>\\n                                                        </div>\\n    </div>\\n</div>\\n\\n                <div class=\"footer-legal\">\\n    <div id=\"footerLogo\" class=\"col-xs-12 col-sm-2 col-md-2\">\\n        <a href=\"//www.usa.gov\"><img src=\"/css/images/usa_gov.png\" alt=\"usa.gov\" width=\"110\" height=\"30\" /></a>\\n    </div>\\n    <div class=\"col-xs-12 col-sm-4 col-md-4\">\\n        <ul class=\"list-unstyled footer-legal-content\">\\n            <li><a href=\"//www.commerce.gov\">US Dept of Commerce</a></li>\\n            <li><a href=\"//www.noaa.gov\">National Oceanic and Atmospheric Administration</a></li>\\n            <li><a href=\"https://www.weather.gov\">National Weather Service</a></li>\\n            <li><a href=\"https://www.weather.gov/mtr\">San Francisco Bay Area, CA</a>            <li>21 Grace Hopper Ave, Stop 5<br /></li>\\n                        <li>Monterey, CA 93943-5505</li>\\n            <li><br /><a href=\"mailto:w-mtr.webmaster@noaa.gov\">Comments? Questions? Please Contact Us.</a></li>\\n        </ul>\\n    </div>\\n    <div class=\"col-xs-12 col-sm-3 col-md-3\">\\n        <ul class=\"list-unstyled\">\\n            <li><a href=\"https://www.weather.gov/disclaimer\">Disclaimer</a></li>\\n            <li><a href=\"//www.cio.noaa.gov/services_programs/info_quality.html\">Information Quality</a></li>\\n            <li><a href=\"https://www.weather.gov/help\">Help</a></li>\\n            <li><a href=\"//www.weather.gov/glossary\">Glossary</a></li>\\n        </ul>\\n    </div>\\n    <div class=\"col-xs-12 col-sm-3 col-md-3\">\\n        <ul class=\"list-unstyled\">\\n            <li><a href=\"https://www.weather.gov/privacy\">Privacy Policy</a></li>\\n            <li><a href=\"https://www.noaa.gov/foia-freedom-of-information-act\">Freedom of Information Act (FOIA)</a></li>\\n            <li><a href=\"https://www.weather.gov/about\">About Us</a></li>\\n            <li><a href=\"https://www.weather.gov/careers\">Career Opportunities</a></li>\\n        </ul>\\n    </div>\\n</div>\\n\\n            </footer>\\n        </main>\\n    </body>\\n</html>\\n'"
      ]
     },
     "execution_count": 28,
     "metadata": {},
     "output_type": "execute_result"
    }
   ],
   "source": [
    "re.text"
   ]
  },
  {
   "cell_type": "code",
   "execution_count": 27,
   "metadata": {},
   "outputs": [],
   "source": [
    "from bs4 import BeautifulSoup\n",
    "soup = BeautifulSoup(re.text ,'html.parser')"
   ]
  },
  {
   "cell_type": "code",
   "execution_count": 34,
   "metadata": {},
   "outputs": [],
   "source": [
    "all_items = soup.find_all('div' , attrs = {'class' :'tombstone-container'})"
   ]
  },
  {
   "cell_type": "code",
   "execution_count": 48,
   "metadata": {},
   "outputs": [
    {
     "data": {
      "text/plain": [
       "<div class=\"tombstone-container\"><p class=\"period-name\">\n",
       "                                            NOW until 4:00am Sun\n",
       "                                    </p><p><img class=\"forecast-icon\" src=\"newimages/medium/bkn.png\"/></p><p class=\"short-desc\">High Surf Advisory</p></div>"
      ]
     },
     "execution_count": 48,
     "metadata": {},
     "output_type": "execute_result"
    }
   ],
   "source": [
    "all_items.pop(0)"
   ]
  },
  {
   "cell_type": "code",
   "execution_count": 50,
   "metadata": {},
   "outputs": [
    {
     "data": {
      "text/plain": [
       "8"
      ]
     },
     "execution_count": 50,
     "metadata": {},
     "output_type": "execute_result"
    }
   ],
   "source": [
    "len(all_items)"
   ]
  },
  {
   "cell_type": "code",
   "execution_count": 51,
   "metadata": {},
   "outputs": [
    {
     "data": {
      "text/plain": [
       "<div class=\"tombstone-container\"><p class=\"period-name\">Today</p><p><img alt=\"\" class=\"forecast-icon\" src=\"newimages/medium/bkn.png\" title=\"\"/></p><p class=\"temp temp-high\">High: 60 °F</p><p class=\"short-desc\">Mostly Cloudy</p></div>"
      ]
     },
     "execution_count": 51,
     "metadata": {},
     "output_type": "execute_result"
    }
   ],
   "source": [
    "all_items[0]"
   ]
  },
  {
   "cell_type": "code",
   "execution_count": 58,
   "metadata": {},
   "outputs": [
    {
     "data": {
      "text/plain": [
       "'Today'"
      ]
     },
     "execution_count": 58,
     "metadata": {},
     "output_type": "execute_result"
    }
   ],
   "source": [
    "day = all_items[0].find('p' ,attrs={'class' :'period-name'}).text\n",
    "day"
   ]
  },
  {
   "cell_type": "code",
   "execution_count": 59,
   "metadata": {},
   "outputs": [
    {
     "data": {
      "text/plain": [
       "'High: 60 °F'"
      ]
     },
     "execution_count": 59,
     "metadata": {},
     "output_type": "execute_result"
    }
   ],
   "source": [
    "temprature =all_items[0].find('p' ,attrs={'class' :['temp temp-low','temp temp-high']}).text\n",
    "temprature"
   ]
  },
  {
   "cell_type": "code",
   "execution_count": 60,
   "metadata": {},
   "outputs": [],
   "source": [
    "with open('weather.csv' , mode = 'w') as fd :\n",
    "    fd.write('day , temprature\\n')\n",
    "    for i in range (len(all_items)) :\n",
    "        day = all_items[i].find('p' ,attrs={'class' :'period-name'}).text\n",
    "        temprature =all_items[0].find('p' ,attrs={'class' :['temp temp-low','temp temp-high']}).text\n",
    "        fd.write(f'{day} ,{temprature}\\n')"
   ]
  },
  {
   "cell_type": "code",
   "execution_count": 61,
   "metadata": {},
   "outputs": [
    {
     "data": {
      "text/html": [
       "<div>\n",
       "<style scoped>\n",
       "    .dataframe tbody tr th:only-of-type {\n",
       "        vertical-align: middle;\n",
       "    }\n",
       "\n",
       "    .dataframe tbody tr th {\n",
       "        vertical-align: top;\n",
       "    }\n",
       "\n",
       "    .dataframe thead th {\n",
       "        text-align: right;\n",
       "    }\n",
       "</style>\n",
       "<table border=\"1\" class=\"dataframe\">\n",
       "  <thead>\n",
       "    <tr style=\"text-align: right;\">\n",
       "      <th></th>\n",
       "      <th>day</th>\n",
       "      <th>temprature</th>\n",
       "    </tr>\n",
       "  </thead>\n",
       "  <tbody>\n",
       "    <tr>\n",
       "      <th>0</th>\n",
       "      <td>Today</td>\n",
       "      <td>High: 60 °F</td>\n",
       "    </tr>\n",
       "    <tr>\n",
       "      <th>1</th>\n",
       "      <td>Tonight</td>\n",
       "      <td>High: 60 °F</td>\n",
       "    </tr>\n",
       "    <tr>\n",
       "      <th>2</th>\n",
       "      <td>Sunday</td>\n",
       "      <td>High: 60 °F</td>\n",
       "    </tr>\n",
       "    <tr>\n",
       "      <th>3</th>\n",
       "      <td>Sunday Night</td>\n",
       "      <td>High: 60 °F</td>\n",
       "    </tr>\n",
       "    <tr>\n",
       "      <th>4</th>\n",
       "      <td>Monday</td>\n",
       "      <td>High: 60 °F</td>\n",
       "    </tr>\n",
       "    <tr>\n",
       "      <th>5</th>\n",
       "      <td>Monday Night</td>\n",
       "      <td>High: 60 °F</td>\n",
       "    </tr>\n",
       "    <tr>\n",
       "      <th>6</th>\n",
       "      <td>Tuesday</td>\n",
       "      <td>High: 60 °F</td>\n",
       "    </tr>\n",
       "    <tr>\n",
       "      <th>7</th>\n",
       "      <td>Tuesday Night</td>\n",
       "      <td>High: 60 °F</td>\n",
       "    </tr>\n",
       "  </tbody>\n",
       "</table>\n",
       "</div>"
      ],
      "text/plain": [
       "             day    temprature\n",
       "0          Today   High: 60 °F\n",
       "1        Tonight   High: 60 °F\n",
       "2         Sunday   High: 60 °F\n",
       "3   Sunday Night   High: 60 °F\n",
       "4         Monday   High: 60 °F\n",
       "5   Monday Night   High: 60 °F\n",
       "6        Tuesday   High: 60 °F\n",
       "7  Tuesday Night   High: 60 °F"
      ]
     },
     "execution_count": 61,
     "metadata": {},
     "output_type": "execute_result"
    }
   ],
   "source": [
    "import pandas as pd \n",
    "pd.read_csv('weather.csv')"
   ]
  },
  {
   "cell_type": "markdown",
   "metadata": {},
   "source": [
    "https://github.com/SemonMamdouh/Data-collection\n"
   ]
  }
 ],
 "metadata": {
  "kernelspec": {
   "display_name": "machine_learning",
   "language": "python",
   "name": "python3"
  },
  "language_info": {
   "codemirror_mode": {
    "name": "ipython",
    "version": 3
   },
   "file_extension": ".py",
   "mimetype": "text/x-python",
   "name": "python",
   "nbconvert_exporter": "python",
   "pygments_lexer": "ipython3",
   "version": "3.9.19"
  }
 },
 "nbformat": 4,
 "nbformat_minor": 2
}
